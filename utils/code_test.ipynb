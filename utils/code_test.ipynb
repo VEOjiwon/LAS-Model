{
 "cells": [
  {
   "cell_type": "code",
   "execution_count": null,
   "id": "eb915065-81d1-4e65-9d9c-210eb0ff4593",
   "metadata": {},
   "outputs": [],
   "source": [
    "#################################################################\n",
    "# 코드 테스트용 노트북...\n",
    "#\n",
    "#################################################################"
   ]
  },
  {
   "cell_type": "code",
   "execution_count": 1,
   "id": "d4919ef9-99b5-4cde-9ff5-e0285bf3a4ac",
   "metadata": {},
   "outputs": [],
   "source": [
    "# dev ler 그래프\n",
    "import matplotlib.pyplot as plt\n",
    "\n",
    "def preprocess(data):\n",
    "    dev_ler_data = {}\n",
    "    for line in data:\n",
    "        epoch = line[1]\n",
    "        value = line[2]\n",
    "        value = round(value,3)\n",
    "        if value not in dev_ler_data.keys():\n",
    "            dev_ler_data[epoch] = value\n",
    "    dev_ler_plot = list(dev_ler_data.values())\n",
    "    \n",
    "    return dev_ler_plot\n",
    "    \n"
   ]
  },
  {
   "cell_type": "code",
   "execution_count": 2,
   "id": "f888364a-a1da-4254-bbb6-e3f7b792ac11",
   "metadata": {},
   "outputs": [
    {
     "data": {
      "application/vnd.jupyter.widget-view+json": {
       "model_id": "f427d532605f454398c145c1dfc3b91f",
       "version_major": 2,
       "version_minor": 0
      },
      "text/plain": [
       "Canvas(toolbar=Toolbar(toolitems=[('Home', 'Reset original view', 'home', 'home'), ('Back', 'Back to previous …"
      ]
     },
     "metadata": {},
     "output_type": "display_data"
    }
   ],
   "source": [
    "# dropout 0.3 모델\n",
    "# letter error ratio\n",
    "\n",
    "%matplotlib ipympl\n",
    "dev_ler1 = [[1636812635.7441003, 0, 0.774362325668335], [1636825904.200918, 1, 0.6458002328872681], [1636841725.1838841, 2, 0.5650123357772827], [1636859953.317395, 3, 0.5082404613494873], [1636880956.0174398, 4, 0.44981133937835693], [1636904217.4694736, 5, 0.43394070863723755], [1636927798.5860562, 6, 0.4128558337688446], [1636951394.5423286, 7, 0.3818485140800476]]\n",
    "dev_ler2 = [[1637003988.8447318, 7, 0.35073980689048767], [1637027582.4320192, 8, 0.36331427097320557], [1637051165.5025084, 9, 0.3526281416416168], [1637074850.7583296, 10, 0.3194708526134491], [1637098631.593151, 11, 0.3040423095226288], [1637122365.9126468, 12, 0.3022461235523224], [1637145915.1667027, 13, 0.3391428589820862], [1637169498.2515316, 14, 0.30006545782089233], [1637193045.4292364, 15, 0.3143075704574585]]\n",
    "dev_ler = dev_ler1 +dev_ler2\n",
    "dev_ler_plot = preprocess(dev_ler) + [0.3035]\n",
    "\n",
    "\n",
    "train_ler1 = [[1636810681.2519028, 0, 0.5992104411125183], [1636823954.5805948, 1, 0.28204333782196045], [1636839772.6752279, 2, 0.1614685356616974], [1636858000.7531712, 3, 0.1260460764169693], [1636878986.323862, 4, 0.1092565581202507], [1636902258.7760987, 5, 0.09403666853904724], [1636925836.9300463, 6, 0.07779838144779205], [1636949432.7458467, 7, 0.06413344293832779], [1636973031.5765994, 8, 0.053355343639850616]]\n",
    "train_ler2 = [[1637002039.7588334, 7, 0.05255993828177452], [1637025620.7693486, 8, 0.04489791765809059], [1637049209.1167395, 9, 0.03862383961677551], [1637072894.9940147, 10, 0.033429015427827835], [1637096680.9292567, 11, 0.028979090973734856], [1637120413.1267054, 12, 0.02419554442167282], [1637143959.1063404, 13, 0.021722663193941116], [1637167548.7446613, 14, 0.01883476786315441], [1637191087.6767747, 15, 0.016471542418003082]]\n",
    "train_ler = train_ler1 + train_ler2\n",
    "train_ler_plot = preprocess(train_ler)  + [0.01405]\n",
    "\n",
    "sota_plot = [0.057] * len(train_ler)\n",
    "test_plot = [0.30126758] * len(train_ler)\n",
    "dev_ler_idx = [i for i in range(len(dev_ler_plot))]\n",
    "train_ler_idx = [i for i in range(len(train_ler_plot))]\n",
    "\n",
    "plt.style.use('classic')\n",
    "plt.plot(train_ler_idx,train_ler_plot,'-bs')\n",
    "plt.plot(dev_ler_idx,dev_ler_plot,'-r^')\n",
    "plt.plot(test_plot,'--',color=\"cyan\",linewidth=3.0)\n",
    "plt.plot(sota_plot,'--g',linewidth=3.0)\n",
    "\n",
    "plt.xlabel(\"Epoch\",fontsize=18)\n",
    "plt.ylabel(\"LER(Letter Error Ratio)\",fontsize=18)\n",
    "plt.legend([\"Train\",\"Validation\",\"Test\",\"SOTA\"])\n",
    "plt.title(\"Epoch vs LER\",fontsize=25)\n",
    "plt.xlim([0,16])\n",
    "plt.grid()\n",
    "plt.show()\n"
   ]
  },
  {
   "cell_type": "code",
   "execution_count": 3,
   "id": "7c49cb1a-5f1a-4cc3-8437-bef7bb1e1130",
   "metadata": {},
   "outputs": [
    {
     "data": {
      "application/vnd.jupyter.widget-view+json": {
       "model_id": "5818ce3003c54d2295f1bfcc9565bce8",
       "version_major": 2,
       "version_minor": 0
      },
      "text/plain": [
       "Canvas(toolbar=Toolbar(toolitems=[('Home', 'Reset original view', 'home', 'home'), ('Back', 'Back to previous …"
      ]
     },
     "metadata": {},
     "output_type": "display_data"
    }
   ],
   "source": [
    "# dropout = 0.3모델\n",
    "# loss\n",
    "\n",
    "%matplotlib ipympl\n",
    "dev_loss1 = [[1636812635.7441003, 0, 5.110353469848633], [1636825904.200918, 1, 4.124184608459473], [1636841725.1838841, 2, 3.4302797317504883], [1636859953.317395, 3, 3.159660577774048], [1636880956.0174398, 4, 2.7697882652282715], [1636904217.4694736, 5, 2.618393898010254], [1636927798.5860562, 6, 2.5271854400634766], [1636951394.5423286, 7, 2.379622459411621]]\n",
    "dev_loss2 = [[1637003988.8447318, 7, 2.3023219108581543], [1637027582.4320192, 8, 2.297529697418213], [1637051165.5025084, 9, 2.2210636138916016], [1637074850.757747, 10, 2.183255672454834], [1637098631.593151, 11, 2.0927724838256836], [1637122365.9126468, 12, 2.0411927700042725], [1637145915.1667027, 13, 2.1912641525268555], [1637169498.2515316, 14, 2.083801507949829], [1637193045.4292364, 15, 2.131699562072754]]\n",
    "dev_loss = dev_loss1 +dev_loss2 \n",
    "dev_loss_plot = preprocess(dev_loss) + [2.189]\n",
    "\n",
    "\n",
    "train_loss1 = [[1636810681.2519028, 0, 2.539008140563965], [1636823954.5805948, 1, 1.83286714553833], [1636839772.6752279, 2, 1.5631338357925415], [1636858000.7531712, 3, 1.4664909839630127], [1636878986.323862, 4, 1.4217380285263062], [1636902258.7760987, 5, 1.3799947500228882], [1636925836.9300463, 6, 1.3335425853729248], [1636949432.7458467, 7, 1.29524827003479], [1636973031.5765994, 8, 1.2621146440505981]]\n",
    "train_loss2 = [[1637002039.7588334, 7, 1.26211678981781], [1637025620.7693486, 8, 1.2379651069641113], [1637049209.1167395, 9, 1.2182011604309082], [1637072894.9940147, 10, 1.2025986909866333], [1637096680.9292567, 11, 1.189087986946106], [1637120413.1267054, 12, 1.1729775667190552], [1637143959.1063404, 13, 1.1654585599899292], [1637167548.7446613, 14, 1.1555255651474], [1637191087.6767747, 15, 1.1476631164550781]]\n",
    "train_loss = train_loss1 + train_loss2\n",
    "train_loss_plot = preprocess(train_loss) +[1.139]\n",
    "test_loss = [2.1720921] * len(train_loss_plot)\n",
    "#dev_ler_idx = [i for i in range(len(dev_ler_plot))]\n",
    "#train_ler_idx = [i for i in range(len(train_ler_plot))]\n",
    "\n",
    "\n",
    "plt.style.use('classic')\n",
    "plt.plot(train_loss_plot,'-bs')\n",
    "plt.plot(dev_loss_plot,'-r^')\n",
    "plt.plot(test_loss,'--',color=\"cyan\",linewidth=3.0)\n",
    "plt.xlabel(\"Epoch\",fontsize=18)\n",
    "plt.ylabel(\"Loss\",fontsize=18)\n",
    "plt.legend([\"Train\",\"Validation\",\"Test\"])\n",
    "plt.title(\"Epoch vs Loss\",fontsize=25)\n",
    "plt.xlim([0,16])\n",
    "plt.grid()\n",
    "plt.show()\n"
   ]
  },
  {
   "cell_type": "code",
   "execution_count": 4,
   "id": "ff857696-ea95-4e42-a7f9-ef2be9a8ca1c",
   "metadata": {
    "tags": []
   },
   "outputs": [
    {
     "data": {
      "application/vnd.jupyter.widget-view+json": {
       "model_id": "0a41ecd49af749448899d6a67b055b39",
       "version_major": 2,
       "version_minor": 0
      },
      "text/plain": [
       "Canvas(toolbar=Toolbar(toolitems=[('Home', 'Reset original view', 'home', 'home'), ('Back', 'Back to previous …"
      ]
     },
     "metadata": {},
     "output_type": "display_data"
    }
   ],
   "source": [
    "# dropout 없는 모델\n",
    "# letter error ratio\n",
    "\n",
    "%matplotlib ipympl\n",
    "dev_ler10 = [[1635953191.248728, 0, 0.774362325668335], [1635966445.0820863, 1, 0.640701174736023], [1635982258.585957, 2, 0.5748804211616516], [1636000513.2817929, 3, 0.5144615769386292], [1636021528.1531663, 4, 0.4596647620201111], [1636044796.5599144, 5, 0.46469947695732117], [1636068352.3912797, 6, 0.40164798498153687], [1636091976.1237242, 7, 0.4308803975582123], [1636115585.1430867, 8, 0.37675100564956665], [1636139132.4356747, 9, 0.3584382236003876], [1636162757.4513214, 10, 0.3699941039085388]]\n",
    "dev_ler10_15 = [[1636417606.678205, 10, 0.3279990553855896], [1636441170.990001, 11, 0.32498684525489807], [1636464696.0101933, 12, 0.32634949684143066], [1636488266.0416317, 13, 0.33233314752578735], [1636512048.28202, 14, 0.31875231862068176], [1636535745.910657, 15, 0.3327891230583191]]\n",
    "dev_ler = dev_ler10 +dev_ler10_15 \n",
    "dev_ler_plot = preprocess(dev_ler) +[ 0.311, 0.296, 0.3131,0.3121 ]\n",
    "\n",
    "\n",
    "train_ler10 = [[1635951249.0424106, 0, 0.5992104411125183], [1635964505.1654537, 1, 0.28194519877433777], [1635980318.914012, 2, 0.161541149020195], [1635998569.6642685, 3, 0.12624837458133698], [1636019587.5701616, 4, 0.10946634411811829], [1636042857.3253732, 5, 0.09464191645383835], [1636066419.8018415, 6, 0.07787485420703888], [1636090033.05497, 7, 0.06406839936971664], [1636113646.2170186, 8, 0.054112765938043594], [1636137191.8029897, 9, 0.045855991542339325], [1636160815.409757, 10, 0.039004236459732056]]\n",
    "train_ler10_15 = [[1636415673.10491, 10, 0.033177897334098816], [1636439232.8368013, 11, 0.028422681614756584], [1636462762.6002867, 12, 0.024211259558796883], [1636486334.323599, 13, 0.021340234205126762], [1636510087.6946905, 14, 0.01816098392009735], [1636533809.1367223, 15, 0.015534978359937668]]\n",
    "train_ler = train_ler10 + train_ler10_15\n",
    "train_ler_plot = preprocess(train_ler) + [0.0095, 0.0076, 0.00705, 0.00644]\n",
    "\n",
    "dev_ler_idx = [i for i in range(len(dev_ler_plot))]\n",
    "train_ler_idx = [i for i in range(len(train_ler_plot))]\n",
    "\n",
    "plt.plot(dev_ler_idx,dev_ler_plot,'-r^')\n",
    "plt.plot(train_ler_idx,train_ler_plot,'-bs')\n",
    "plt.xlabel(\"Epoch\",fontsize=15)\n",
    "plt.ylabel(\"LER(Letter Error Ratio)\",fontsize=15)\n",
    "plt.legend([\"Validation\",\"Train\"])\n",
    "plt.title(\"Train/Validation LER\",fontsize=18)\n",
    "plt.grid()\n",
    "plt.show()\n"
   ]
  },
  {
   "cell_type": "code",
   "execution_count": 5,
   "id": "79b9ccc2-4be0-4d0e-a925-a08d87195514",
   "metadata": {},
   "outputs": [
    {
     "data": {
      "text/plain": [
       "20"
      ]
     },
     "execution_count": 5,
     "metadata": {},
     "output_type": "execute_result"
    }
   ],
   "source": [
    "len(dev_ler_plot)"
   ]
  },
  {
   "cell_type": "code",
   "execution_count": 30,
   "id": "9ceae4be-b43c-40eb-883d-529c5523a22f",
   "metadata": {},
   "outputs": [
    {
     "data": {
      "application/vnd.jupyter.widget-view+json": {
       "model_id": "a5d724236de2493d9152517353605e32",
       "version_major": 2,
       "version_minor": 0
      },
      "text/plain": [
       "Canvas(toolbar=Toolbar(toolitems=[('Home', 'Reset original view', 'home', 'home'), ('Back', 'Back to previous …"
      ]
     },
     "metadata": {},
     "output_type": "display_data"
    }
   ],
   "source": [
    "# dropout 없는 모델\n",
    "# loss\n",
    "\n",
    "%matplotlib ipympl\n",
    "dev_ler10 = [[1635953191.248728, 0, 5.110353469848633], [1635966445.0820863, 1, 4.124847888946533], [1635982258.585957, 2, 3.4406893253326416], [1636000513.2817929, 3, 3.1652770042419434], [1636021528.1531663, 4, 2.846348285675049], [1636044796.5599144, 5, 2.7780661582946777], [1636068352.3912797, 6, 2.473198413848877], [1636091976.1237242, 7, 2.6133875846862793], [1636115585.1430867, 8, 2.351383924484253], [1636139132.4356747, 9, 2.3104286193847656], [1636162757.4513214, 10, 2.3998429775238037]]\n",
    "dev_ler10_15 = [[1636417606.678205, 10, 2.2572388648986816], [1636441170.990001, 11, 2.248769760131836], [1636464696.0101933, 12, 2.172839403152466], [1636488266.0416317, 13, 2.177424430847168], [1636512048.28202, 14, 2.170820474624634], [1636535745.910657, 15, 2.3453941345214844]]\n",
    "dev_ler = dev_ler10 +dev_ler10_15 \n",
    "dev_ler_plot = preprocess(dev_ler) +[ 2.174, 2.175, 2.279,2.352 ]\n",
    "\n",
    "\n",
    "train_ler10 = [[1635951249.0424106, 0, 2.539008140563965], [1635964505.1654537, 1, 1.8342174291610718], [1635980318.914012, 2, 1.5625295639038086], [1635998569.6642685, 3, 1.4689396619796753], [1636019587.5701616, 4, 1.4216707944869995], [1636042857.3253732, 5, 1.3825650215148926], [1636066419.8018415, 6, 1.3344587087631226], [1636090033.05497, 7, 1.2940315008163452], [1636113646.2170186, 8, 1.2657488584518433], [1636137191.8029897, 9, 1.2407976388931274], [1636160815.409757, 10, 1.2201781272888184]]\n",
    "train_ler10_15 = [[1636415673.10491, 10, 1.2021337747573853], [1636439232.8368013, 11, 1.1865390539169312], [1636462762.6002867, 12, 1.1733978986740112], [1636486334.323599, 13, 1.164090633392334], [1636510087.6946905, 14, 1.1541188955307007], [1636533809.1367223, 15, 1.1447408199310303]]\n",
    "train_ler = train_ler10 + train_ler10_15\n",
    "train_ler_plot = preprocess(train_ler) + [1.121, 1.115, 1.113, 1.111]\n",
    "\n",
    "dev_ler_idx = [i for i in range(len(dev_ler_plot))]\n",
    "train_ler_idx = [i for i in range(len(train_ler_plot))]\n",
    "plt.style.use('classic')\n",
    "plt.plot(dev_ler_plot,'-r^')\n",
    "plt.plot(train_ler_plot,'-bs')\n",
    "plt.xlabel(\"Epoch\",fontsize=15)\n",
    "plt.ylabel(\"Loss\",fontsize=15)\n",
    "plt.legend([\"Validation\",\"Train\"])\n",
    "plt.title(\"Train/Validation Loss\",fontsize=18)\n",
    "plt.xticks([i for i in range(len(dev_ler_plot))])\n",
    "plt.ylim([0,6])\n",
    "plt.grid()\n",
    "plt.show()\n"
   ]
  },
  {
   "cell_type": "code",
   "execution_count": null,
   "id": "c2aadedf-ee4a-4f12-8a69-e5bce6fa282e",
   "metadata": {},
   "outputs": [],
   "source": [
    "# dropout 없는 모델\n",
    "# loss\n",
    "\n",
    "%matplotlib ipympl\n",
    "dev_ler10 = [[1635953191.248728, 0, 5.110353469848633], [1635966445.0820863, 1, 4.124847888946533], [1635982258.585957, 2, 3.4406893253326416], [1636000513.2817929, 3, 3.1652770042419434], [1636021528.1531663, 4, 2.846348285675049], [1636044796.5599144, 5, 2.7780661582946777], [1636068352.3912797, 6, 2.473198413848877], [1636091976.1237242, 7, 2.6133875846862793], [1636115585.1430867, 8, 2.351383924484253], [1636139132.4356747, 9, 2.3104286193847656], [1636162757.4513214, 10, 2.3998429775238037]]\n",
    "dev_ler10_15 = [[1636417606.678205, 10, 2.2572388648986816], [1636441170.990001, 11, 2.248769760131836], [1636464696.0101933, 12, 2.172839403152466], [1636488266.0416317, 13, 2.177424430847168], [1636512048.28202, 14, 2.170820474624634], [1636535745.910657, 15, 2.3453941345214844]]\n",
    "dev_ler = dev_ler10 +dev_ler10_15 \n",
    "dev_ler_plot = preprocess(dev_ler) +[ 2.174, 2.175, 2.279,2.352 ]\n",
    "\n",
    "\n",
    "train_ler10 = [[1635951249.0424106, 0, 2.539008140563965], [1635964505.1654537, 1, 1.8342174291610718], [1635980318.914012, 2, 1.5625295639038086], [1635998569.6642685, 3, 1.4689396619796753], [1636019587.5701616, 4, 1.4216707944869995], [1636042857.3253732, 5, 1.3825650215148926], [1636066419.8018415, 6, 1.3344587087631226], [1636090033.05497, 7, 1.2940315008163452], [1636113646.2170186, 8, 1.2657488584518433], [1636137191.8029897, 9, 1.2407976388931274], [1636160815.409757, 10, 1.2201781272888184]]\n",
    "train_ler10_15 = [[1636415673.10491, 10, 1.2021337747573853], [1636439232.8368013, 11, 1.1865390539169312], [1636462762.6002867, 12, 1.1733978986740112], [1636486334.323599, 13, 1.164090633392334], [1636510087.6946905, 14, 1.1541188955307007], [1636533809.1367223, 15, 1.1447408199310303]]\n",
    "train_ler = train_ler10 + train_ler10_15\n",
    "train_ler_plot = preprocess(train_ler) + [1.121, 1.115, 1.113, 1.111]\n",
    "\n",
    "dev_ler_idx = [i for i in range(len(dev_ler_plot))]\n",
    "train_ler_idx = [i for i in range(len(train_ler_plot))]\n",
    "plt.style.use('classic')\n",
    "plt.plot(dev_ler_plot,'-r^')\n",
    "plt.plot(train_ler_plot,'-bs')\n",
    "plt.xlabel(\"Epoch\",fontsize=15)\n",
    "plt.ylabel(\"Loss\",fontsize=15)\n",
    "plt.legend([\"Validation\",\"Train\"])\n",
    "plt.title(\"Train/Validation Loss\",fontsize=18)\n",
    "plt.xticks([i for i in range(len(dev_ler_plot))])\n",
    "plt.ylim([0,6])\n",
    "plt.grid()\n",
    "plt.show()\n"
   ]
  },
  {
   "cell_type": "code",
   "execution_count": 4,
   "id": "f0442a18-4e86-4662-bc70-15f082c99878",
   "metadata": {},
   "outputs": [
    {
     "data": {
      "text/plain": [
       "16"
      ]
     },
     "execution_count": 4,
     "metadata": {},
     "output_type": "execute_result"
    }
   ],
   "source": [
    "dev_ler_plot"
   ]
  },
  {
   "cell_type": "code",
   "execution_count": null,
   "id": "44ac174c-0fb1-4426-ab56-a1f6c71d57de",
   "metadata": {},
   "outputs": [],
   "source": [
    "\"\"\"\n",
    "for file in file_names:\n",
    "    path = file_path + file\n",
    "    with open(path,\"r\") as f:\n",
    "        rdr = csv.reader(f)\n",
    "        next(rdr)\n",
    "        for line in rdr:\n",
    "            print(line)\n",
    "            split_line = line.split(\",\")\n",
    "            epoch = split_line[1]\n",
    "            value = split_line[2]\n",
    "            \n",
    "\"\"\""
   ]
  },
  {
   "cell_type": "code",
   "execution_count": 1,
   "id": "28f3a929-11a1-44d0-bf11-b5c9f59ebe7b",
   "metadata": {},
   "outputs": [
    {
     "name": "stdout",
     "output_type": "stream",
     "text": [
      "7.7\n"
     ]
    }
   ],
   "source": [
    "# to do ..\n",
    "# 1. 학습에 사용되었던csv 파일 불러오기\n",
    "# 2. csv파일의 path에 .fb40.npy 대신 wav 넣은 리스트 만들기\n",
    "# 3. wav 파일을 불러오면서 파일 길이 구하기 (train.csv부터)\n",
    "\n",
    "\n",
    "# 단일 wav파일 길이 구하기\n",
    "import wave\n",
    "import contextlib\n",
    "\n",
    "path_dir = \"C:/Users/USER/Desktop/jiwon/las-pytorch/data/kospeech/train/source/일반남여_일반통합01_F_HSH00_28_수도권_녹음실/일반남여_일반통합01_F_HSH00_28_수도권_녹음실_01142.wav\"\n",
    "\n",
    "with contextlib.closing(wave.open(path_dir, 'r')) as f:\n",
    "    frames = f.getnframes()\n",
    "    rate = f.getframerate()\n",
    "    duration = frames / float(rate)\n",
    "print(duration)"
   ]
  },
  {
   "cell_type": "code",
   "execution_count": 21,
   "id": "60082a1d-168d-4b7a-9da3-14e936166c06",
   "metadata": {},
   "outputs": [
    {
     "name": "stdout",
     "output_type": "stream",
     "text": [
      "['C:\\\\Users\\\\USER\\\\Desktop\\\\jiwon\\\\las-pytorch\\\\data\\\\kospeech\\\\test\\\\source\\\\일반남여_일반통합01_F_KKJ00_47_수도권_녹음실\\\\일반남여_일반통합01_F_KKJ00_47_수도권_녹음실_00001.wav', 'C:\\\\Users\\\\USER\\\\Desktop\\\\jiwon\\\\las-pytorch\\\\data\\\\kospeech\\\\test\\\\source\\\\일반남여_일반통합01_F_KKJ00_47_수도권_녹음실\\\\일반남여_일반통합01_F_KKJ00_47_수도권_녹음실_00002.wav', 'C:\\\\Users\\\\USER\\\\Desktop\\\\jiwon\\\\las-pytorch\\\\data\\\\kospeech\\\\test\\\\source\\\\일반남여_일반통합01_F_KKJ00_47_수도권_녹음실\\\\일반남여_일반통합01_F_KKJ00_47_수도권_녹음실_00003.wav']\n",
      "7318\n"
     ]
    },
    {
     "data": {
      "application/vnd.jupyter.widget-view+json": {
       "model_id": "324d0322dbee4aba84f05d942d9a27e1",
       "version_major": 2,
       "version_minor": 0
      },
      "text/plain": [
       "  0%|          | 0/7318 [00:00<?, ?it/s]"
      ]
     },
     "metadata": {},
     "output_type": "display_data"
    },
    {
     "name": "stdout",
     "output_type": "stream",
     "text": [
      "total data : 45646.00187499996 second\n",
      "total data : 12.679444965277765 hour\n"
     ]
    }
   ],
   "source": [
    "import csv\n",
    "from tqdm import notebook\n",
    "\n",
    "root = 'C:/Users/USER/Desktop/jiwon/las-pytorch/data/kospeech/processed/'\n",
    "target = 'test-clean-original.csv'\n",
    "full_path = root + target\n",
    "\n",
    "total_wav_length = 0\n",
    "path_list = []\n",
    "\n",
    "with open(full_path, 'r',encoding='utf8') as f:\n",
    "    reader = csv.reader(f)\n",
    "    next(reader) # skip header\n",
    "    for row in reader:\n",
    "        name = row[1].split('.')[0]+'.wav'\n",
    "        path_list.append(name)\n",
    "\n",
    "print(path_list[:3])\n",
    "print(len(path_list))\n",
    "\n",
    "for path_dir in notebook.tqdm(path_list):\n",
    "    with contextlib.closing(wave.open(path_dir, 'r')) as f:\n",
    "        frames = f.getnframes()\n",
    "        rate = f.getframerate()\n",
    "        duration = frames / float(rate)\n",
    "        total_wav_length += duration\n",
    "print(\"total data :\", total_wav_length,\"second\")\n",
    "print(\"total data :\", total_wav_length/3600,\"hour\")"
   ]
  },
  {
   "cell_type": "code",
   "execution_count": 17,
   "id": "febe148f-b318-4f92-8670-872c6bbbfe87",
   "metadata": {},
   "outputs": [
    {
     "name": "stdout",
     "output_type": "stream",
     "text": [
      "The autoreload extension is already loaded. To reload it, use:\n",
      "  %reload_ext autoreload\n"
     ]
    }
   ],
   "source": [
    "# Make .trans.txt files\n",
    "%load_ext autoreload\n",
    "%autoreload 2\n",
    "\n",
    "from functions import file_list_path\n",
    "\n",
    "root = 'C:\\\\Users\\\\USER\\\\Desktop\\\\jiwon\\\\las-pytorch\\\\data\\\\kospeech'\n",
    "data_type = \"test\"\n",
    "train_dir = file_list_path(root, \"train\", \"label\",\"json\")\n",
    "dev_dir = file_list_path(root, \"dev\", \"label\",\"json\")\n",
    "test_dir = file_list_path(root, \"test\", \"label\",\"json\")\n",
    "\n",
    "#label_source = \"label\""
   ]
  },
  {
   "cell_type": "code",
   "execution_count": 11,
   "id": "84080b9f-cdc7-4c73-855f-b43d9dca9a0b",
   "metadata": {},
   "outputs": [
    {
     "name": "stdout",
     "output_type": "stream",
     "text": [
      "The autoreload extension is already loaded. To reload it, use:\n",
      "  %reload_ext autoreload\n"
     ]
    }
   ],
   "source": [
    "# Make .trans.txt files\n",
    "%load_ext autoreload\n",
    "%autoreload 2\n",
    "root = 'C:\\\\Users\\\\USER\\\\Desktop\\\\jiwon\\\\las-pytorch\\\\data\\\\kospeech'\n",
    "from functions import file_list_path\n",
    "test_dir = file_list_path(root, \"test\", \"source\",\".txt\",True)"
   ]
  },
  {
   "cell_type": "code",
   "execution_count": null,
   "id": "80a62108-2b87-4a3f-a780-64fa7d5358da",
   "metadata": {},
   "outputs": [],
   "source": [
    "test_dir"
   ]
  },
  {
   "cell_type": "code",
   "execution_count": 71,
   "id": "3fb75fc6-7dae-4632-a4fc-2d4cc78ec3f7",
   "metadata": {},
   "outputs": [
    {
     "data": {
      "application/vnd.jupyter.widget-view+json": {
       "model_id": "6581f983707d49f29cc3449bfe4c6f3a",
       "version_major": 2,
       "version_minor": 0
      },
      "text/plain": [
       "  0%|          | 0/2 [00:00<?, ?it/s]"
      ]
     },
     "metadata": {},
     "output_type": "display_data"
    }
   ],
   "source": [
    "import os\n",
    "from tqdm import notebook\n",
    "f_list = []\n",
    "\n",
    "root = 'C:\\\\Users\\\\USER\\\\Desktop\\\\jiwon\\\\las-pytorch\\\\data\\\\kospeech'\n",
    "data_type = \"test\"\n",
    "label_source = \"label\"\n",
    "pre_fix = \"json\"\n",
    "\n",
    "folder_path = root+\"\\\\\" +data_type+ \"\\\\\" + label_source\n",
    "\n",
    "folder_list = os.listdir(folder_path)\n",
    "folder_list = folder_list[:2]\n",
    "\n",
    "for folders in notebook.tqdm(folder_list):\n",
    "    rower_folder_path = folder_path + \"\\\\\" + folders\n",
    "    end_folders =os.listdir(rower_folder_path)\n",
    "    \n",
    "    # writing 해줄 파일 열 어야함\n",
    "    write_path = rower_folder_path.replace('label','source')\n",
    "    txt_name = write_path.split('\\\\')[-1]\n",
    "    #print(write_path)\n",
    "    txt_dir = \"\\\\\".join(write_path.split('\\\\')[:-1])\n",
    "    txt = txt_dir + \"\\\\\" +txt_name+\"\\\\\" +txt_name +\".trans.txt\"\n",
    "    #print(txt)\n",
    "    with open(txt, \"w\") as tf:\n",
    "        for file in end_folders:\n",
    "            if pre_fix in file:\n",
    "                path = rower_folder_path + \"\\\\\" + file\n",
    "                write_path = path\n",
    "                with open(path, 'r',encoding='utf8') as f:\n",
    "                    json_data = json.load(f)\n",
    "                label = json_data['발화정보']['stt']\n",
    "                fileNm = json_data['발화정보']['fileNm'].split('.')[0]\n",
    "                writed = fileNm +\" \"+ label+\"\\n\"\n",
    "                tf.write(writed)\n",
    "                "
   ]
  },
  {
   "cell_type": "code",
   "execution_count": 61,
   "id": "87c782c2-ee3b-46ff-8d91-168cdd4b7cfc",
   "metadata": {},
   "outputs": [
    {
     "data": {
      "text/plain": [
       "'일반남여_일반통합01_F_KKJ00_47_수도권_녹음실'"
      ]
     },
     "execution_count": 61,
     "metadata": {},
     "output_type": "execute_result"
    }
   ],
   "source": [
    "folder_list[0]"
   ]
  },
  {
   "cell_type": "code",
   "execution_count": 78,
   "id": "9065bfbd-0e3e-4fc7-8053-b0941367b3aa",
   "metadata": {},
   "outputs": [
    {
     "data": {
      "application/vnd.jupyter.widget-view+json": {
       "model_id": "f26384379cd84b7388013e23b94dffc7",
       "version_major": 2,
       "version_minor": 0
      },
      "text/plain": [
       "  0%|          | 0/164 [00:00<?, ?it/s]"
      ]
     },
     "metadata": {},
     "output_type": "display_data"
    }
   ],
   "source": [
    "# train 남녀 -? 남여로 폴더명 수정 코드\n",
    "import os\n",
    "\n",
    "target_dir = 'C:\\\\Users\\\\USER\\\\Desktop\\\\jiwon\\\\las-pytorch\\\\data\\\\kospeech\\\\train\\\\source'\n",
    "\n",
    "targets = os.listdir(target_dir)\n",
    "#targets = targets[:3]\n",
    "\n",
    "for name in notebook.tqdm(targets):\n",
    "    if '녀' in name:\n",
    "        new_name = name.replace('녀','여')\n",
    "        print(new_name)\n",
    "        #os.rename(target_dir+'\\\\'+name, target_dir+'\\\\'+new_name)\n",
    "\n"
   ]
  },
  {
   "cell_type": "code",
   "execution_count": null,
   "id": "0f492114-b1f2-4479-a516-2da3030963d9",
   "metadata": {},
   "outputs": [],
   "source": []
  },
  {
   "cell_type": "code",
   "execution_count": 44,
   "id": "30d67a88-31ad-4dad-af75-06558e55fd54",
   "metadata": {},
   "outputs": [
    {
     "name": "stdout",
     "output_type": "stream",
     "text": [
      "이 대리 아니야 일반남여_일반통합01_M_HDW00_27_전라_녹음실_00001\n",
      "C:\\Users\\USER\\Desktop\\jiwon\\las-pytorch\\data\\kospeech\\dev\\source\\일반남여_일반통합01_M_HDW00_27_전라_녹음실\\일반남여_일반통합01_M_HDW00_27_전라_녹음실.trans.txt\n",
      "안녕하세요 일찍 출근하시네요 일반남여_일반통합01_M_HDW00_27_전라_녹음실_00002\n",
      "C:\\Users\\USER\\Desktop\\jiwon\\las-pytorch\\data\\kospeech\\dev\\source\\일반남여_일반통합01_M_HDW00_27_전라_녹음실\\일반남여_일반통합01_M_HDW00_27_전라_녹음실.trans.txt\n",
      "만원 지하철을 타면 하루 종일 피곤해서 일을 못하겠더라구 일반남여_일반통합01_M_HDW00_27_전라_녹음실_00003\n",
      "C:\\Users\\USER\\Desktop\\jiwon\\las-pytorch\\data\\kospeech\\dev\\source\\일반남여_일반통합01_M_HDW00_27_전라_녹음실\\일반남여_일반통합01_M_HDW00_27_전라_녹음실.trans.txt\n"
     ]
    }
   ],
   "source": [
    "import json\n",
    "\n",
    "target_dirs = dev_dir[:3]\n",
    "path = target_dirs\n",
    "\n",
    "for path in target_dirs :\n",
    "    write_path = path\n",
    "    write_path = write_path.replace('label','source')\n",
    "    txt_name = write_path.split('\\\\')[-2]\n",
    "    txt_dir = \"\\\\\".join(write_path.split('\\\\')[:-1])\n",
    "    txt = txt_dir + \"\\\\\" + txt_name +\".trans.txt\"\n",
    "    \n",
    "    with open(path, 'r',encoding='utf8') as f:\n",
    "        json_data = json.load(f)\n",
    "    label = json_data['발화정보']['stt']\n",
    "    fileNm = json_data['발화정보']['fileNm'].split('.')[0]\n",
    "    print(label, fileNm)\n",
    "    print(txt)"
   ]
  },
  {
   "cell_type": "code",
   "execution_count": 47,
   "id": "1108f168-fd51-4f0c-a37a-6eaad640cdd4",
   "metadata": {},
   "outputs": [
    {
     "data": {
      "text/plain": [
       "['C:\\\\Users\\\\USER\\\\Desktop\\\\jiwon\\\\las-pytorch\\\\data\\\\kospeech\\\\dev\\\\label\\\\일반남여_일반통합01_M_HDW00_27_전라_녹음실\\\\일반남여_일반통합01_M_HDW00_27_전라_녹음실_00001.json',\n",
       " 'C:\\\\Users\\\\USER\\\\Desktop\\\\jiwon\\\\las-pytorch\\\\data\\\\kospeech\\\\dev\\\\label\\\\일반남여_일반통합01_M_HDW00_27_전라_녹음실\\\\일반남여_일반통합01_M_HDW00_27_전라_녹음실_00002.json',\n",
       " 'C:\\\\Users\\\\USER\\\\Desktop\\\\jiwon\\\\las-pytorch\\\\data\\\\kospeech\\\\dev\\\\label\\\\일반남여_일반통합01_M_HDW00_27_전라_녹음실\\\\일반남여_일반통합01_M_HDW00_27_전라_녹음실_00003.json',\n",
       " 'C:\\\\Users\\\\USER\\\\Desktop\\\\jiwon\\\\las-pytorch\\\\data\\\\kospeech\\\\dev\\\\label\\\\일반남여_일반통합01_M_HDW00_27_전라_녹음실\\\\일반남여_일반통합01_M_HDW00_27_전라_녹음실_00004.json',\n",
       " 'C:\\\\Users\\\\USER\\\\Desktop\\\\jiwon\\\\las-pytorch\\\\data\\\\kospeech\\\\dev\\\\label\\\\일반남여_일반통합01_M_HDW00_27_전라_녹음실\\\\일반남여_일반통합01_M_HDW00_27_전라_녹음실_00005.json',\n",
       " 'C:\\\\Users\\\\USER\\\\Desktop\\\\jiwon\\\\las-pytorch\\\\data\\\\kospeech\\\\dev\\\\label\\\\일반남여_일반통합01_M_HDW00_27_전라_녹음실\\\\일반남여_일반통합01_M_HDW00_27_전라_녹음실_00006.json',\n",
       " 'C:\\\\Users\\\\USER\\\\Desktop\\\\jiwon\\\\las-pytorch\\\\data\\\\kospeech\\\\dev\\\\label\\\\일반남여_일반통합01_M_HDW00_27_전라_녹음실\\\\일반남여_일반통합01_M_HDW00_27_전라_녹음실_00007.json',\n",
       " 'C:\\\\Users\\\\USER\\\\Desktop\\\\jiwon\\\\las-pytorch\\\\data\\\\kospeech\\\\dev\\\\label\\\\일반남여_일반통합01_M_HDW00_27_전라_녹음실\\\\일반남여_일반통합01_M_HDW00_27_전라_녹음실_00008.json',\n",
       " 'C:\\\\Users\\\\USER\\\\Desktop\\\\jiwon\\\\las-pytorch\\\\data\\\\kospeech\\\\dev\\\\label\\\\일반남여_일반통합01_M_HDW00_27_전라_녹음실\\\\일반남여_일반통합01_M_HDW00_27_전라_녹음실_00009.json',\n",
       " 'C:\\\\Users\\\\USER\\\\Desktop\\\\jiwon\\\\las-pytorch\\\\data\\\\kospeech\\\\dev\\\\label\\\\일반남여_일반통합01_M_HDW00_27_전라_녹음실\\\\일반남여_일반통합01_M_HDW00_27_전라_녹음실_00010.json',\n",
       " 'C:\\\\Users\\\\USER\\\\Desktop\\\\jiwon\\\\las-pytorch\\\\data\\\\kospeech\\\\dev\\\\label\\\\일반남여_일반통합01_M_HDW00_27_전라_녹음실\\\\일반남여_일반통합01_M_HDW00_27_전라_녹음실_00011.json',\n",
       " 'C:\\\\Users\\\\USER\\\\Desktop\\\\jiwon\\\\las-pytorch\\\\data\\\\kospeech\\\\dev\\\\label\\\\일반남여_일반통합01_M_HDW00_27_전라_녹음실\\\\일반남여_일반통합01_M_HDW00_27_전라_녹음실_00012.json',\n",
       " 'C:\\\\Users\\\\USER\\\\Desktop\\\\jiwon\\\\las-pytorch\\\\data\\\\kospeech\\\\dev\\\\label\\\\일반남여_일반통합01_M_HDW00_27_전라_녹음실\\\\일반남여_일반통합01_M_HDW00_27_전라_녹음실_00013.json',\n",
       " 'C:\\\\Users\\\\USER\\\\Desktop\\\\jiwon\\\\las-pytorch\\\\data\\\\kospeech\\\\dev\\\\label\\\\일반남여_일반통합01_M_HDW00_27_전라_녹음실\\\\일반남여_일반통합01_M_HDW00_27_전라_녹음실_00014.json',\n",
       " 'C:\\\\Users\\\\USER\\\\Desktop\\\\jiwon\\\\las-pytorch\\\\data\\\\kospeech\\\\dev\\\\label\\\\일반남여_일반통합01_M_HDW00_27_전라_녹음실\\\\일반남여_일반통합01_M_HDW00_27_전라_녹음실_00015.json',\n",
       " 'C:\\\\Users\\\\USER\\\\Desktop\\\\jiwon\\\\las-pytorch\\\\data\\\\kospeech\\\\dev\\\\label\\\\일반남여_일반통합01_M_HDW00_27_전라_녹음실\\\\일반남여_일반통합01_M_HDW00_27_전라_녹음실_00016.json',\n",
       " 'C:\\\\Users\\\\USER\\\\Desktop\\\\jiwon\\\\las-pytorch\\\\data\\\\kospeech\\\\dev\\\\label\\\\일반남여_일반통합01_M_HDW00_27_전라_녹음실\\\\일반남여_일반통합01_M_HDW00_27_전라_녹음실_00017.json',\n",
       " 'C:\\\\Users\\\\USER\\\\Desktop\\\\jiwon\\\\las-pytorch\\\\data\\\\kospeech\\\\dev\\\\label\\\\일반남여_일반통합01_M_HDW00_27_전라_녹음실\\\\일반남여_일반통합01_M_HDW00_27_전라_녹음실_00018.json',\n",
       " 'C:\\\\Users\\\\USER\\\\Desktop\\\\jiwon\\\\las-pytorch\\\\data\\\\kospeech\\\\dev\\\\label\\\\일반남여_일반통합01_M_HDW00_27_전라_녹음실\\\\일반남여_일반통합01_M_HDW00_27_전라_녹음실_00019.json',\n",
       " 'C:\\\\Users\\\\USER\\\\Desktop\\\\jiwon\\\\las-pytorch\\\\data\\\\kospeech\\\\dev\\\\label\\\\일반남여_일반통합01_M_HDW00_27_전라_녹음실\\\\일반남여_일반통합01_M_HDW00_27_전라_녹음실_00020.json']"
      ]
     },
     "execution_count": 47,
     "metadata": {},
     "output_type": "execute_result"
    }
   ],
   "source": [
    "dev_dir[:20]"
   ]
  },
  {
   "cell_type": "code",
   "execution_count": 20,
   "id": "405210a6-bf32-4c72-b05b-52d2ec3165c8",
   "metadata": {},
   "outputs": [
    {
     "name": "stdout",
     "output_type": "stream",
     "text": [
      "이 대리 아니야\n"
     ]
    }
   ],
   "source": [
    "import json\n",
    "\n",
    "with open(dev_dir[0], 'r',encoding='utf8') as f:\n",
    "    json_data = json.load(f)\n",
    "#read_text = json.dumps(json_data,indent=4,ensure_ascii=False)\n",
    "print(json_data['발화정보']['stt'])\n",
    "label = json_data['발화정보']['stt']"
   ]
  },
  {
   "cell_type": "code",
   "execution_count": 84,
   "id": "383a7798-8a1f-4a57-b618-b4bf1e20e47d",
   "metadata": {},
   "outputs": [],
   "source": [
    "import sys\n",
    "import wave"
   ]
  },
  {
   "cell_type": "code",
   "execution_count": 108,
   "id": "39132f02-3c38-4aa0-b330-8d47c2cf4d1c",
   "metadata": {},
   "outputs": [],
   "source": [
    "with open(f_list[0], 'rb') as pcmfile:\n",
    "    pcmdata = pcmfile.read()\n",
    "    with wave.open(f_list[0].split(\".\")[0]+'.wav', 'wb') as wavfile:\n",
    "        wavfile.setparams((2, 2, 44100, 0, 'NONE', 'NONE'))\n",
    "        wavfile.writeframes(pcmdata)"
   ]
  },
  {
   "cell_type": "code",
   "execution_count": 138,
   "id": "4a275f0f-c8e7-48b3-ba24-2dcab1ca8e8c",
   "metadata": {},
   "outputs": [
    {
     "name": "stdout",
     "output_type": "stream",
     "text": [
      "(80000,)\n",
      "method1 takes 0.0010004043579101562\n"
     ]
    }
   ],
   "source": [
    "import soundfile as sf\n",
    "import os\n",
    "import numpy as np\n",
    "import time\n",
    "\n",
    "sample_data = f_list[0]\n",
    "data_dir ='\\\\'.join(f_list[0].split(\"\\\\\")[:-1])\n",
    "\n",
    "\n",
    "signal = np.memmap(sample_data, dtype='h', mode='r').astype('float32')\n",
    "signal = signal / 32767\n",
    "\n",
    "sf.write(os.path.join(data_dir, 'method1_16000.wav'), signal, 16000, format='WAV', endian='LITTLE', subtype='PCM_16')"
   ]
  },
  {
   "cell_type": "code",
   "execution_count": null,
   "id": "f25b711f-978e-4041-9cbf-393e43ea1957",
   "metadata": {},
   "outputs": [],
   "source": [
    "import numpy as np\n",
    "\n",
    "data = np.load('data.npy')\n"
   ]
  }
 ],
 "metadata": {
  "kernelspec": {
   "display_name": "Python 3 (ipykernel)",
   "language": "python",
   "name": "python3"
  },
  "language_info": {
   "codemirror_mode": {
    "name": "ipython",
    "version": 3
   },
   "file_extension": ".py",
   "mimetype": "text/x-python",
   "name": "python",
   "nbconvert_exporter": "python",
   "pygments_lexer": "ipython3",
   "version": "3.8.11"
  }
 },
 "nbformat": 4,
 "nbformat_minor": 5
}
